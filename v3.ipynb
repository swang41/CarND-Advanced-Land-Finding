{
 "cells": [
  {
   "cell_type": "code",
   "execution_count": 13,
   "metadata": {
    "collapsed": true
   },
   "outputs": [],
   "source": [
    "import cv2\n",
    "import numpy as np\n",
    "import glob\n",
    "import matplotlib.pyplot as plt\n",
    "import matplotlib.image as impg\n",
    "from collections import deque\n",
    "# Import everything needed to edit/save/watch video clips\n",
    "from moviepy.editor import VideoFileClip\n",
    "from IPython.display import HTML\n",
    "\n",
    "%matplotlib inline"
   ]
  },
  {
   "cell_type": "code",
   "execution_count": 14,
   "metadata": {},
   "outputs": [],
   "source": [
    "from line import Line\n",
    "from preprocess_utilis import calibrate_camera, threshold_sx_s, perspective_transform\n",
    "from findLane import blind_search, margin_search, findLanes, projectLane, cal_curvature, add_desc "
   ]
  },
  {
   "cell_type": "code",
   "execution_count": 15,
   "metadata": {
    "collapsed": true
   },
   "outputs": [],
   "source": [
    "def process_image(image):\n",
    "    images.append(image)\n",
    "    undist = cv2.undistort(image,\n",
    "                           mtx,\n",
    "                           dst,\n",
    "                           None, \n",
    "                           mtx)\n",
    "    binary_warped = threshold_sx_s(undist)\n",
    "    warped = cv2.warpPerspective(binary_warped, \n",
    "                                 M, \n",
    "                                 binary_warped.shape[::-1], \n",
    "                                 flags = cv2.INTER_LINEAR)\n",
    "    \n",
    "    findLanes(warped, undist)\n",
    "\n",
    "    new_image= projectLane(undist, \n",
    "                           M_inv)\n",
    "    \n",
    "    cal_curvature('left', new_image.shape[0])\n",
    "    cal_curvature('right', new_image.shape[0])\n",
    "    \n",
    "    new_image = add_desc(new_image, new_image.shape[1])\n",
    "    \n",
    "    return new_image"
   ]
  },
  {
   "cell_type": "code",
   "execution_count": 16,
   "metadata": {
    "collapsed": true
   },
   "outputs": [],
   "source": [
    "camera_cal_img_paths = list(map(lambda path: './camera_cal/' + path.split('\\\\')[-1] ,\n",
    "                     glob.glob('./camera_cal/*.jpg')))\n",
    "camera_cal_imgs = [plt.imread(img_path) for img_path in camera_cal_img_paths]\n"
   ]
  },
  {
   "cell_type": "code",
   "execution_count": 17,
   "metadata": {
    "collapsed": true
   },
   "outputs": [],
   "source": [
    "test_img_paths = list(map(lambda path: './test_images/' + path.split('\\\\')[-1],\n",
    "                          glob.glob('./test_images/*.jpg')))\n",
    "test_imgs = [plt.imread(img_path) for img_path in test_img_paths]"
   ]
  },
  {
   "cell_type": "code",
   "execution_count": 18,
   "metadata": {},
   "outputs": [
    {
     "ename": "NameError",
     "evalue": "name 'np' is not defined",
     "output_type": "error",
     "traceback": [
      "\u001b[1;31m---------------------------------------------------------------------------\u001b[0m",
      "\u001b[1;31mNameError\u001b[0m                                 Traceback (most recent call last)",
      "\u001b[1;32m<ipython-input-18-a0d4a4aaff53>\u001b[0m in \u001b[0;36m<module>\u001b[1;34m()\u001b[0m\n\u001b[1;32m----> 1\u001b[1;33m \u001b[0mmtx\u001b[0m\u001b[1;33m,\u001b[0m \u001b[0mdst\u001b[0m \u001b[1;33m=\u001b[0m \u001b[0mcalibrate_camera\u001b[0m\u001b[1;33m(\u001b[0m\u001b[0mcamera_cal_imgs\u001b[0m\u001b[1;33m,\u001b[0m \u001b[1;36m9\u001b[0m\u001b[1;33m,\u001b[0m \u001b[1;36m6\u001b[0m\u001b[1;33m)\u001b[0m\u001b[1;33m\u001b[0m\u001b[0m\n\u001b[0m",
      "\u001b[1;32m~\\Desktop\\Git\\CarND-Advance-Lane-Finding\\preprocess_utilis.py\u001b[0m in \u001b[0;36mcalibrate_camera\u001b[1;34m(images, nx, ny)\u001b[0m\n\u001b[0;32m     10\u001b[0m         \u001b[0mdist\u001b[0m\u001b[1;33m:\u001b[0m \u001b[0mdistortion\u001b[0m \u001b[0mcoeficients\u001b[0m\u001b[1;33m\u001b[0m\u001b[0m\n\u001b[0;32m     11\u001b[0m     '''\n\u001b[1;32m---> 12\u001b[1;33m     \u001b[0mobjp\u001b[0m \u001b[1;33m=\u001b[0m \u001b[0mnp\u001b[0m\u001b[1;33m.\u001b[0m\u001b[0mzeros\u001b[0m\u001b[1;33m(\u001b[0m\u001b[1;33m(\u001b[0m\u001b[0mny\u001b[0m \u001b[1;33m*\u001b[0m \u001b[0mnx\u001b[0m\u001b[1;33m,\u001b[0m \u001b[1;36m3\u001b[0m\u001b[1;33m)\u001b[0m\u001b[1;33m,\u001b[0m \u001b[0mnp\u001b[0m\u001b[1;33m.\u001b[0m\u001b[0mfloat32\u001b[0m\u001b[1;33m)\u001b[0m\u001b[1;33m\u001b[0m\u001b[0m\n\u001b[0m\u001b[0;32m     13\u001b[0m     \u001b[0mobjp\u001b[0m\u001b[1;33m[\u001b[0m\u001b[1;33m:\u001b[0m\u001b[1;33m,\u001b[0m\u001b[1;33m:\u001b[0m\u001b[1;36m2\u001b[0m\u001b[1;33m]\u001b[0m \u001b[1;33m=\u001b[0m \u001b[0mnp\u001b[0m\u001b[1;33m.\u001b[0m\u001b[0mmgrid\u001b[0m\u001b[1;33m[\u001b[0m\u001b[1;36m0\u001b[0m\u001b[1;33m:\u001b[0m\u001b[0mnx\u001b[0m\u001b[1;33m,\u001b[0m \u001b[1;36m0\u001b[0m\u001b[1;33m:\u001b[0m\u001b[0mny\u001b[0m\u001b[1;33m]\u001b[0m\u001b[1;33m.\u001b[0m\u001b[0mT\u001b[0m\u001b[1;33m.\u001b[0m\u001b[0mreshape\u001b[0m\u001b[1;33m(\u001b[0m\u001b[1;33m-\u001b[0m\u001b[1;36m1\u001b[0m\u001b[1;33m,\u001b[0m \u001b[1;36m2\u001b[0m\u001b[1;33m)\u001b[0m\u001b[1;33m\u001b[0m\u001b[0m\n\u001b[0;32m     14\u001b[0m \u001b[1;33m\u001b[0m\u001b[0m\n",
      "\u001b[1;31mNameError\u001b[0m: name 'np' is not defined"
     ]
    }
   ],
   "source": [
    "mtx, dst = calibrate_camera(camera_cal_imgs, 9, 6)"
   ]
  },
  {
   "cell_type": "markdown",
   "metadata": {},
   "source": [
    "### Project Video"
   ]
  },
  {
   "cell_type": "code",
   "execution_count": null,
   "metadata": {
    "collapsed": true
   },
   "outputs": [],
   "source": [
    "src = np.float32([[570, 467],\n",
    "                  [206, 720], \n",
    "                  [715, 467],\n",
    "                  [1100, 720]])\n",
    "dest = np.float32([[325, 200],\n",
    "                   [325, 720],\n",
    "                   [968, 200],\n",
    "                   [968, 720]])\n",
    "\n",
    "M, M_inv = perspective_transform(src, dest)"
   ]
  },
  {
   "cell_type": "code",
   "execution_count": null,
   "metadata": {
    "collapsed": true
   },
   "outputs": [],
   "source": [
    "clip = VideoFileClip(\"./project_video.mp4\")"
   ]
  },
  {
   "cell_type": "code",
   "execution_count": null,
   "metadata": {},
   "outputs": [],
   "source": [
    "keep_last_n_frame = 10\n",
    "ACCEPTED_THRES= 0.5\n",
    "SMOOTH_THRES = 0.7\n",
    "left_lane = Line(keep_last_n_frame)\n",
    "right_lane = Line(keep_last_n_frame)\n",
    "coefs_diff_norm = []\n",
    "coefs_diff_norm_blind = []\n",
    "coefs_diff_norm_smooth = []\n",
    "images = []\n",
    "out_clip = clip.fl_image(process_image)"
   ]
  },
  {
   "cell_type": "code",
   "execution_count": null,
   "metadata": {},
   "outputs": [],
   "source": [
    "output = './out_clip.mp4'\n",
    "%time out_clip.write_videofile(output, audio=False)"
   ]
  },
  {
   "cell_type": "code",
   "execution_count": null,
   "metadata": {},
   "outputs": [],
   "source": [
    "coefs_diff_norm = np.array(coefs_diff_norm)\n",
    "print(np.max(coefs_diff_norm))\n",
    "print(np.sum(coefs_diff_norm > 0.1))\n",
    "print(len(coefs_diff_norm))\n",
    "plt.plot(range(len(coefs_diff_norm[coefs_diff_norm > 0.1])), coefs_diff_norm[coefs_diff_norm > 0.1])"
   ]
  },
  {
   "cell_type": "code",
   "execution_count": null,
   "metadata": {},
   "outputs": [],
   "source": [
    "coefs_diff_norm_blind = np.array(coefs_diff_norm_blind)\n",
    "print(np.max(coefs_diff_norm_blind))\n",
    "print(np.sum(coefs_diff_norm_blind > 0.5))\n",
    "plt.plot(range(len(coefs_diff_norm_blind)), coefs_diff_norm_blind)"
   ]
  },
  {
   "cell_type": "code",
   "execution_count": null,
   "metadata": {},
   "outputs": [],
   "source": [
    "coefs_diff_norm_smooth = np.array(coefs_diff_norm_smooth)\n",
    "print(np.max(coefs_diff_norm_smooth))\n",
    "print(np.sum(coefs_diff_norm_smooth > 0.5))\n",
    "plt.plot(range(len(coefs_diff_norm_smooth)), coefs_diff_norm_smooth)"
   ]
  },
  {
   "cell_type": "code",
   "execution_count": null,
   "metadata": {},
   "outputs": [],
   "source": [
    "HTML(\"\"\"\n",
    "<video width=\"960\" height=\"540\" controls>\n",
    "  <source src=\"{0}\">\n",
    "</video>\n",
    "\"\"\".format(output))"
   ]
  },
  {
   "cell_type": "markdown",
   "metadata": {},
   "source": [
    "### Challenge Video"
   ]
  },
  {
   "cell_type": "code",
   "execution_count": null,
   "metadata": {
    "collapsed": true
   },
   "outputs": [],
   "source": [
    "src = np.float32([[570, 467],\n",
    "                  [206, 720], \n",
    "                  [715, 467],\n",
    "                  [1100, 720]])\n",
    "dest = np.float32([[325, 200],\n",
    "                   [325, 720],\n",
    "                   [968, 200],\n",
    "                   [968, 720]])\n",
    "\n",
    "M, M_inv = perspective_transform(src, dest)"
   ]
  },
  {
   "cell_type": "code",
   "execution_count": null,
   "metadata": {
    "collapsed": true
   },
   "outputs": [],
   "source": [
    "challenge_clip = VideoFileClip(\"./challenge_video.mp4\")"
   ]
  },
  {
   "cell_type": "code",
   "execution_count": null,
   "metadata": {},
   "outputs": [],
   "source": [
    "keep_last_n_frame = 25\n",
    "ACCEPTED_THRES= 0.5\n",
    "SMOOTH_THRES = 0.5\n",
    "left_lane = Line(keep_last_n_frame)\n",
    "right_lane = Line(keep_last_n_frame)\n",
    "coefs_diff_norm = []\n",
    "coefs_diff_norm_blind = []\n",
    "coefs_diff_norm_smooth = []\n",
    "images = []\n",
    "out_clip = challenge_clip.fl_image(process_image)"
   ]
  },
  {
   "cell_type": "code",
   "execution_count": null,
   "metadata": {},
   "outputs": [],
   "source": [
    "output = './challenge_out_clip.mp4'\n",
    "%time out_clip.write_videofile(output, audio=False)"
   ]
  },
  {
   "cell_type": "code",
   "execution_count": null,
   "metadata": {},
   "outputs": [],
   "source": [
    "coefs_diff_norm = np.array(coefs_diff_norm)\n",
    "print(np.max(coefs_diff_norm))\n",
    "print(np.sum(coefs_diff_norm > 0.1))\n",
    "print(len(coefs_diff_norm))\n",
    "plt.plot(range(len(coefs_diff_norm[coefs_diff_norm > 0.1])), coefs_diff_norm[coefs_diff_norm > 0.1])"
   ]
  },
  {
   "cell_type": "code",
   "execution_count": null,
   "metadata": {},
   "outputs": [],
   "source": [
    "plt.rcParams[\"figure.figsize\"] = (20,10)\n",
    "plt.plot(range(len(coefs_diff_norm)), coefs_diff_norm > 0.9)"
   ]
  },
  {
   "cell_type": "code",
   "execution_count": null,
   "metadata": {},
   "outputs": [],
   "source": [
    "coefs_diff_norm_blind = np.array(coefs_diff_norm_blind)\n",
    "print(np.max(coefs_diff_norm_blind))\n",
    "print(np.sum(coefs_diff_norm_blind > 0.5))\n",
    "plt.plot(range(len(coefs_diff_norm_blind)), coefs_diff_norm_blind)"
   ]
  },
  {
   "cell_type": "code",
   "execution_count": null,
   "metadata": {},
   "outputs": [],
   "source": [
    "coefs_diff_norm_smooth = np.array(coefs_diff_norm_smooth)\n",
    "print(np.max(coefs_diff_norm_smooth))\n",
    "print(np.sum(coefs_diff_norm_smooth > 0.5))\n",
    "plt.plot(range(len(coefs_diff_norm_smooth)), coefs_diff_norm_smooth)"
   ]
  },
  {
   "cell_type": "code",
   "execution_count": null,
   "metadata": {
    "scrolled": false
   },
   "outputs": [],
   "source": [
    "HTML(\"\"\"\n",
    "<video width=\"960\" height=\"540\" controls>\n",
    "  <source src=\"{0}\">\n",
    "</video>\n",
    "\"\"\".format(output))"
   ]
  },
  {
   "cell_type": "code",
   "execution_count": null,
   "metadata": {
    "collapsed": true
   },
   "outputs": [],
   "source": []
  },
  {
   "cell_type": "code",
   "execution_count": null,
   "metadata": {
    "collapsed": true
   },
   "outputs": [],
   "source": []
  }
 ],
 "metadata": {
  "kernelspec": {
   "display_name": "Python 3",
   "language": "python",
   "name": "python3"
  },
  "language_info": {
   "codemirror_mode": {
    "name": "ipython",
    "version": 3
   },
   "file_extension": ".py",
   "mimetype": "text/x-python",
   "name": "python",
   "nbconvert_exporter": "python",
   "pygments_lexer": "ipython3",
   "version": "3.5.2"
  }
 },
 "nbformat": 4,
 "nbformat_minor": 2
}
